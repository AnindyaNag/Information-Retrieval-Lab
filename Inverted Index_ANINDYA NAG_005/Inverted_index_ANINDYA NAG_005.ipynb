{
  "cells": [
    {
      "cell_type": "code",
      "execution_count": 1,
      "metadata": {
        "id": "1pVb3MHNV6bg"
      },
      "outputs": [],
      "source": [
        "###Lab: 04                                  Date:18.02.2022 \n",
        "###Program No.:04\n",
        "\n",
        "###Program Name: Write a Python Program to find Inverted Index.\n",
        "\n",
        "#ANINDYA NAG\n",
        "# ROLL : UG/02/BTCSE/2018/005\n",
        "\n",
        "#CODE:1 "
      ]
    },
    {
      "cell_type": "code",
      "execution_count": 2,
      "metadata": {
        "id": "5W2NUDoKCBuq"
      },
      "outputs": [],
      "source": [
        "# Collection of documents \n",
        "\n",
        "D1=\"I play tennis everyday\"\n",
        "D2=\"Everyday I go to play cricket\"\n",
        "D3=\"I like cricket and tennis\"\n",
        "D4=\"Dhoni won the world cup\"\n",
        "D5=\"I love a cup of tea everyday\""
      ]
    },
    {
      "cell_type": "code",
      "execution_count": 3,
      "metadata": {
        "id": "-G3wI9lOCHJa",
        "outputId": "980878dd-83da-4e8b-9b2d-b4dcd6d15249",
        "colab": {
          "base_uri": "https://localhost:8080/",
          "height": 0
        }
      },
      "outputs": [
        {
          "output_type": "execute_result",
          "data": {
            "text/plain": [
              "['I play tennis everyday',\n",
              " 'Everyday I go to play cricket',\n",
              " 'I like cricket and tennis',\n",
              " 'Dhoni won the world cup',\n",
              " 'I love a cup of tea everyday']"
            ]
          },
          "metadata": {},
          "execution_count": 3
        }
      ],
      "source": [
        "docs = [D1,D2,D3,D4,D5]\n",
        "docs"
      ]
    },
    {
      "cell_type": "code",
      "execution_count": 4,
      "metadata": {
        "id": "B13gBZi6CJsu",
        "outputId": "03e45d81-cce0-442e-dbbe-18255f7913bb",
        "colab": {
          "base_uri": "https://localhost:8080/",
          "height": 0
        }
      },
      "outputs": [
        {
          "output_type": "execute_result",
          "data": {
            "text/plain": [
              "{'Dhoni',\n",
              " 'Everyday',\n",
              " 'I',\n",
              " 'a',\n",
              " 'and',\n",
              " 'cricket',\n",
              " 'cup',\n",
              " 'everyday',\n",
              " 'go',\n",
              " 'like',\n",
              " 'love',\n",
              " 'of',\n",
              " 'play',\n",
              " 'tea',\n",
              " 'tennis',\n",
              " 'the',\n",
              " 'to',\n",
              " 'won',\n",
              " 'world'}"
            ]
          },
          "metadata": {},
          "execution_count": 4
        }
      ],
      "source": [
        "# Gather the set of all unique terms\n",
        "\n",
        "unique_terms = {term for doc in docs for term in doc.split()}\n",
        "unique_terms"
      ]
    },
    {
      "cell_type": "code",
      "execution_count": 5,
      "metadata": {
        "id": "Oq8Tuge0CLtX",
        "outputId": "606edddb-f862-43ac-f708-6fd6720737e3",
        "colab": {
          "base_uri": "https://localhost:8080/",
          "height": 0
        }
      },
      "outputs": [
        {
          "output_type": "execute_result",
          "data": {
            "text/plain": [
              "{'Dhoni': {4},\n",
              " 'Everyday': {2},\n",
              " 'I': {1, 2, 3, 5},\n",
              " 'a': {5},\n",
              " 'and': {3},\n",
              " 'cricket': {2, 3},\n",
              " 'cup': {4, 5},\n",
              " 'everyday': {1, 5},\n",
              " 'go': {2},\n",
              " 'like': {3},\n",
              " 'love': {5},\n",
              " 'of': {5},\n",
              " 'play': {1, 2},\n",
              " 'tea': {5},\n",
              " 'tennis': {1, 3},\n",
              " 'the': {4},\n",
              " 'to': {2},\n",
              " 'won': {4},\n",
              " 'world': {4}}"
            ]
          },
          "metadata": {},
          "execution_count": 5
        }
      ],
      "source": [
        "# Construct an inverted index\n",
        "# here as a Python dictionary for ease of interpretability\n",
        "\n",
        "inverted_index = {}\n",
        "\n",
        "for i, doc in enumerate(docs):\n",
        "    for term in doc.split():\n",
        "        if term in inverted_index:\n",
        "            inverted_index[term].add(i+1)\n",
        "        else: inverted_index[term] = {i+1}\n",
        "\n",
        "inverted_index"
      ]
    }
  ],
  "metadata": {
    "colab": {
      "collapsed_sections": [],
      "name": "Inverted index.ipynb",
      "provenance": []
    },
    "kernelspec": {
      "display_name": "Python 3",
      "name": "python3"
    },
    "language_info": {
      "name": "python"
    }
  },
  "nbformat": 4,
  "nbformat_minor": 0
}
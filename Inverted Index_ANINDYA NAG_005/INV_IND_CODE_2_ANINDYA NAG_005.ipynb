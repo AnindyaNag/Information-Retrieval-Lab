{
  "nbformat": 4,
  "nbformat_minor": 0,
  "metadata": {
    "colab": {
      "name": "INV_IND_CODE_2.ipynb",
      "provenance": [],
      "collapsed_sections": []
    },
    "kernelspec": {
      "name": "python3",
      "display_name": "Python 3"
    },
    "language_info": {
      "name": "python"
    }
  },
  "cells": [
    {
      "cell_type": "code",
      "source": [
        "###Lab: 04                                   Date:18.02.2022\n",
        "###Program No.:04\n",
        "\n",
        "###Program Name: Write a Python Program to find Inverted Index.\n",
        "\n",
        "#ANINDYA NAG\n",
        "# ROLL : UG/02/BTCSE/2018/005\n",
        "\n",
        "#CODE:2 "
      ],
      "metadata": {
        "id": "1fJUVTpPV9sM"
      },
      "execution_count": 1,
      "outputs": []
    },
    {
      "cell_type": "code",
      "execution_count": 2,
      "metadata": {
        "id": "_Fl6qyCJx5e3"
      },
      "outputs": [],
      "source": [
        "d1 = \"I love to play cricket\".split()\n",
        "d2 = \"I love play cricket and football everyday\".split()\n",
        "d3 = \"Dhoni was captain of cricket team\".split()\n",
        "d4 = \"Dhoni won the world cup\".split()\n",
        "d5 = \"I love a cup of tea everyday\".split()\n"
      ]
    },
    {
      "cell_type": "code",
      "source": [
        "documents = [d1, d2, d3, d4, d5]\n",
        "word_count = set(d1 + d2 + d3 + d4 + d5)"
      ],
      "metadata": {
        "id": "dJNSk1hox63z"
      },
      "execution_count": 3,
      "outputs": []
    },
    {
      "cell_type": "code",
      "source": [
        "small_word = []\n",
        "for i in word_count:\n",
        "\tsmall_word.append(i.lower())\n",
        "terms = sorted(small_word)\n",
        "\n",
        "invertedIndex = {}\n",
        "\n",
        "for term in terms:\n",
        "\tfor doc_idx, doc in enumerate(documents):\n",
        "\t\tif term in doc:\n",
        "\t\t\tif term not in invertedIndex.keys():\n",
        "\t\t\t\tinvertedIndex[term] = [doc_idx+1]\n",
        "\t\t\t\t\n",
        "\t\t\telse:\n",
        "\t\t\t\tinvertedIndex[term].append(doc_idx)\n",
        "\t\t\n",
        "print(invertedIndex )\n"
      ],
      "metadata": {
        "colab": {
          "base_uri": "https://localhost:8080/"
        },
        "id": "rBlXlUdLx7xb",
        "outputId": "183d4bc5-2afb-4865-ee66-5ba527becd5a"
      },
      "execution_count": 4,
      "outputs": [
        {
          "output_type": "stream",
          "name": "stdout",
          "text": [
            "{'a': [5], 'and': [2], 'captain': [3], 'cricket': [1, 1, 2], 'cup': [4, 4], 'everyday': [2, 4], 'football': [2], 'love': [1, 1, 4], 'of': [3, 4], 'play': [1, 1], 'tea': [5], 'team': [3], 'the': [4], 'to': [1], 'was': [3], 'won': [4], 'world': [4]}\n"
          ]
        }
      ]
    }
  ]
}
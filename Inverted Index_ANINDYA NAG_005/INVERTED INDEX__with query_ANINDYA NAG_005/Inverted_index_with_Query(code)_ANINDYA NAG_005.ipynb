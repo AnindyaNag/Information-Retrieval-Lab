{
  "nbformat": 4,
  "nbformat_minor": 0,
  "metadata": {
    "colab": {
      "name": "Inverted index_with Query(code).ipynb",
      "provenance": [],
      "collapsed_sections": []
    },
    "kernelspec": {
      "name": "python3",
      "display_name": "Python 3"
    },
    "language_info": {
      "name": "python"
    }
  },
  "cells": [
    {
      "cell_type": "code",
      "source": [
        "###Lab: 05                                      Date: 25.02.222\n",
        "###Program No.:05\n",
        "\n",
        "###Program Name: Write a Python Program to find Inverted Index and  \n",
        "#                Process Boolean Query.\n",
        "\n",
        "#ANINDYA NAG\n",
        "# ROLL : UG/02/BTCSE/2018/005\n",
        "\n",
        "#CODE:3"
      ],
      "metadata": {
        "id": "1pVb3MHNV6bg"
      },
      "execution_count": 11,
      "outputs": []
    },
    {
      "cell_type": "code",
      "execution_count": 12,
      "metadata": {
        "id": "5W2NUDoKCBuq"
      },
      "outputs": [],
      "source": [
        "# Collection of documents \n",
        "\n",
        "D1=\"I play tennis everyday\"\n",
        "D2=\"Everyday I go to play cricket\"\n",
        "D3=\"I like cricket and tennis\"\n",
        "D4=\"Dhoni won the world cup\"\n",
        "D5=\"I love a cup of tea everyday\""
      ]
    },
    {
      "cell_type": "code",
      "source": [
        "docs = [D1,D2,D3,D4,D5]\n",
        "docs"
      ],
      "metadata": {
        "id": "-G3wI9lOCHJa",
        "colab": {
          "base_uri": "https://localhost:8080/",
          "height": 0
        },
        "outputId": "740e25be-bc9f-4d05-da6e-faa1934cc372"
      },
      "execution_count": 13,
      "outputs": [
        {
          "output_type": "execute_result",
          "data": {
            "text/plain": [
              "['I play tennis everyday',\n",
              " 'Everyday I go to play cricket',\n",
              " 'I like cricket and tennis',\n",
              " 'Dhoni won the world cup',\n",
              " 'I love a cup of tea everyday']"
            ]
          },
          "metadata": {},
          "execution_count": 13
        }
      ]
    },
    {
      "cell_type": "code",
      "source": [
        "# Gather the set of all unique terms\n",
        "\n",
        "unique_terms = {term for doc in docs for term in doc.split()}\n",
        "unique_terms"
      ],
      "metadata": {
        "id": "B13gBZi6CJsu",
        "colab": {
          "base_uri": "https://localhost:8080/",
          "height": 0
        },
        "outputId": "3426db4f-938c-45ba-e03b-88cd9545c02a"
      },
      "execution_count": 14,
      "outputs": [
        {
          "output_type": "execute_result",
          "data": {
            "text/plain": [
              "{'Dhoni',\n",
              " 'Everyday',\n",
              " 'I',\n",
              " 'a',\n",
              " 'and',\n",
              " 'cricket',\n",
              " 'cup',\n",
              " 'everyday',\n",
              " 'go',\n",
              " 'like',\n",
              " 'love',\n",
              " 'of',\n",
              " 'play',\n",
              " 'tea',\n",
              " 'tennis',\n",
              " 'the',\n",
              " 'to',\n",
              " 'won',\n",
              " 'world'}"
            ]
          },
          "metadata": {},
          "execution_count": 14
        }
      ]
    },
    {
      "cell_type": "code",
      "source": [
        "# Construct an inverted index\n",
        "# here as a Python dictionary for ease of interpretability\n",
        "\n",
        "inverted_index = {}\n",
        "\n",
        "for i, doc in enumerate(docs):\n",
        "    for term in doc.split():\n",
        "        if term in inverted_index:\n",
        "            inverted_index[term].add(i+1)\n",
        "        else: inverted_index[term] = {i+1}\n",
        "\n",
        "inverted_index"
      ],
      "metadata": {
        "id": "Oq8Tuge0CLtX",
        "colab": {
          "base_uri": "https://localhost:8080/",
          "height": 0
        },
        "outputId": "55ce577f-f31a-4bf6-ef55-b486c1e74277"
      },
      "execution_count": 15,
      "outputs": [
        {
          "output_type": "execute_result",
          "data": {
            "text/plain": [
              "{'Dhoni': {4},\n",
              " 'Everyday': {2},\n",
              " 'I': {1, 2, 3, 5},\n",
              " 'a': {5},\n",
              " 'and': {3},\n",
              " 'cricket': {2, 3},\n",
              " 'cup': {4, 5},\n",
              " 'everyday': {1, 5},\n",
              " 'go': {2},\n",
              " 'like': {3},\n",
              " 'love': {5},\n",
              " 'of': {5},\n",
              " 'play': {1, 2},\n",
              " 'tea': {5},\n",
              " 'tennis': {1, 3},\n",
              " 'the': {4},\n",
              " 'to': {2},\n",
              " 'won': {4},\n",
              " 'world': {4}}"
            ]
          },
          "metadata": {},
          "execution_count": 15
        }
      ]
    },
    {
      "cell_type": "code",
      "source": [
        "def or_postings(posting1, posting2):\n",
        "    p1 = 0\n",
        "    p2 = 0\n",
        "    result = list()\n",
        "    while p1 < len(posting1) and p2 < len(posting2):\n",
        "        if posting1[p1] == posting2[p2]:\n",
        "            result.append(posting1[p1])\n",
        "            p1 += 1\n",
        "            p2 += 1\n",
        "        elif posting1[p1] > posting2[p2]:\n",
        "            result.append(posting2[p2])\n",
        "            p2 += 1\n",
        "        else:\n",
        "            result.append(posting1[p1])\n",
        "            p1 += 1\n",
        "    while p1 < len(posting1):\n",
        "        result.append(posting1[p1])\n",
        "        p1 += 1\n",
        "    while p2 < len(posting2):\n",
        "        result.append(posting2[p2])\n",
        "        p2 += 1\n",
        "    return result"
      ],
      "metadata": {
        "id": "lPF0QUwZCN2P"
      },
      "execution_count": 16,
      "outputs": []
    },
    {
      "cell_type": "code",
      "source": [
        "wopl_1 = list(inverted_index[input()])\n",
        "pl_2 = list(inverted_index[input()])\n",
        "\n",
        "print(pl_1)\n",
        "print(pl_2)\n",
        "print('-------')\n",
        "\n",
        "or_postings(pl_1, pl_2) "
      ],
      "metadata": {
        "id": "7--oHtknCP84",
        "colab": {
          "base_uri": "https://localhost:8080/",
          "height": 0
        },
        "outputId": "9267cc54-c76c-43cd-a3c2-48ca917ba962"
      },
      "execution_count": 20,
      "outputs": [
        {
          "output_type": "stream",
          "name": "stdout",
          "text": [
            "play\n",
            "go\n",
            "[1, 2]\n",
            "[2]\n",
            "-------\n"
          ]
        },
        {
          "output_type": "execute_result",
          "data": {
            "text/plain": [
              "[1, 2]"
            ]
          },
          "metadata": {},
          "execution_count": 20
        }
      ]
    },
    {
      "cell_type": "code",
      "source": [
        "def and_postings(posting1, posting2):\n",
        "    p1 = 0\n",
        "    p2 = 0\n",
        "    result = list()\n",
        "    while p1 < len(posting1) and p2 < len(posting2):\n",
        "        if posting1[p1] == posting2[p2]:\n",
        "            result.append(posting1[p1])\n",
        "            p1 += 1\n",
        "            p2 += 1\n",
        "        elif posting1[p1] > posting2[p2]:\n",
        "            p2 += 1\n",
        "        else:\n",
        "            p1 += 1\n",
        "    return result"
      ],
      "metadata": {
        "id": "reybnnGNCYL-"
      },
      "execution_count": 18,
      "outputs": []
    },
    {
      "cell_type": "code",
      "source": [
        "pl_1 = list(inverted_index[input()])\n",
        "pl_2 = list(inverted_index[input()])\n",
        "\n",
        "print(pl_1)\n",
        "print(pl_2)\n",
        "print('-------')\n",
        "\n",
        "and_postings(pl_1, pl_2) "
      ],
      "metadata": {
        "colab": {
          "base_uri": "https://localhost:8080/",
          "height": 0
        },
        "id": "M4_xcDRECZ2e",
        "outputId": "293ef425-1448-4824-f817-88a19a11261b"
      },
      "execution_count": 19,
      "outputs": [
        {
          "output_type": "stream",
          "name": "stdout",
          "text": [
            "play\n",
            "go\n",
            "[1, 2]\n",
            "[2]\n",
            "-------\n"
          ]
        },
        {
          "output_type": "execute_result",
          "data": {
            "text/plain": [
              "[2]"
            ]
          },
          "metadata": {},
          "execution_count": 19
        }
      ]
    }
  ]
}
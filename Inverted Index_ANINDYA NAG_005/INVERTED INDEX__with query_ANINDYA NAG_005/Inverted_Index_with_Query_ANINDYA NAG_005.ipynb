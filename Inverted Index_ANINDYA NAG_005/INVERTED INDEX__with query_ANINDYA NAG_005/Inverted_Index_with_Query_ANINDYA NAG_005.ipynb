{
  "cells": [
    {
      "cell_type": "code",
      "execution_count": 18,
      "metadata": {
        "id": "4X3oPKPuMddO"
      },
      "outputs": [],
      "source": [
        "###Lab:05                                        Date:25.02.222\n",
        "###Program No.:05\n",
        "\n",
        "###Program Name: Write a Python Program to find Inverted Index and  \n",
        "#                Process Boolean Query.\n",
        "\n",
        "#ANINDYA NAG\n",
        "# ROLL : UG/02/BTCSE/2018/005\n",
        "\n",
        "#CODE:2"
      ]
    },
    {
      "cell_type": "code",
      "execution_count": 19,
      "metadata": {
        "id": "WWxj4QsXppb2"
      },
      "outputs": [],
      "source": [
        "# Collection of documents \n",
        "\n",
        "D1=\"I play tennis everyday\"\n",
        "D2=\"Everyday I go to play cricket\"\n",
        "D3=\"I like cricket and tennis\"\n",
        "D4=\"Dhoni won the world cup\"\n",
        "D5=\"I love a cup of tea everyday\""
      ]
    },
    {
      "cell_type": "code",
      "execution_count": 20,
      "metadata": {
        "id": "TG50v_UIqsjW",
        "colab": {
          "base_uri": "https://localhost:8080/",
          "height": 0
        },
        "outputId": "8ec0ef66-2e53-4f39-dded-78cc5d24ac29"
      },
      "outputs": [
        {
          "output_type": "execute_result",
          "data": {
            "text/plain": [
              "['I play tennis everyday',\n",
              " 'Everyday I go to play cricket',\n",
              " 'I like cricket and tennis',\n",
              " 'Dhoni won the world cup',\n",
              " 'I love a cup of tea everyday']"
            ]
          },
          "metadata": {},
          "execution_count": 20
        }
      ],
      "source": [
        "docs = [D1,D2,D3,D4,D5]\n",
        "docs"
      ]
    },
    {
      "cell_type": "code",
      "execution_count": 21,
      "metadata": {
        "id": "hUYuMJvpq5cO",
        "colab": {
          "base_uri": "https://localhost:8080/",
          "height": 0
        },
        "outputId": "87947a53-45e2-464d-cac3-bf3c33ca2397"
      },
      "outputs": [
        {
          "output_type": "execute_result",
          "data": {
            "text/plain": [
              "{'Dhoni',\n",
              " 'Everyday',\n",
              " 'I',\n",
              " 'a',\n",
              " 'and',\n",
              " 'cricket',\n",
              " 'cup',\n",
              " 'everyday',\n",
              " 'go',\n",
              " 'like',\n",
              " 'love',\n",
              " 'of',\n",
              " 'play',\n",
              " 'tea',\n",
              " 'tennis',\n",
              " 'the',\n",
              " 'to',\n",
              " 'won',\n",
              " 'world'}"
            ]
          },
          "metadata": {},
          "execution_count": 21
        }
      ],
      "source": [
        "# Gather the set of all unique terms\n",
        "\n",
        "unique_terms = {term for doc in docs for term in doc.split()}\n",
        "unique_terms"
      ]
    },
    {
      "cell_type": "code",
      "execution_count": 22,
      "metadata": {
        "id": "rlSoyZrAq_Ac",
        "colab": {
          "base_uri": "https://localhost:8080/",
          "height": 0
        },
        "outputId": "fbc25427-49e4-4a8a-ce55-b74c287c07e3"
      },
      "outputs": [
        {
          "output_type": "execute_result",
          "data": {
            "text/plain": [
              "{'Dhoni': {4},\n",
              " 'Everyday': {2},\n",
              " 'I': {1, 2, 3, 5},\n",
              " 'a': {5},\n",
              " 'and': {3},\n",
              " 'cricket': {2, 3},\n",
              " 'cup': {4, 5},\n",
              " 'everyday': {1, 5},\n",
              " 'go': {2},\n",
              " 'like': {3},\n",
              " 'love': {5},\n",
              " 'of': {5},\n",
              " 'play': {1, 2},\n",
              " 'tea': {5},\n",
              " 'tennis': {1, 3},\n",
              " 'the': {4},\n",
              " 'to': {2},\n",
              " 'won': {4},\n",
              " 'world': {4}}"
            ]
          },
          "metadata": {},
          "execution_count": 22
        }
      ],
      "source": [
        "# Construct an inverted index\n",
        "# here as a Python dictionary for ease of interpretability\n",
        "\n",
        "inverted_index = {}\n",
        "\n",
        "for i, doc in enumerate(docs):\n",
        "    for term in doc.split():\n",
        "        if term in inverted_index:\n",
        "            inverted_index[term].add(i+1)\n",
        "        else: inverted_index[term] = {i+1}\n",
        "\n",
        "inverted_index"
      ]
    },
    {
      "cell_type": "code",
      "execution_count": 23,
      "metadata": {
        "id": "JRFdgJderFqs",
        "colab": {
          "base_uri": "https://localhost:8080/",
          "height": 0
        },
        "outputId": "cb37a9f6-fe1e-46d7-af5a-17ddd95f7c50"
      },
      "outputs": [
        {
          "output_type": "stream",
          "name": "stdout",
          "text": [
            "play\n",
            "tea\n",
            "{1, 2}\n",
            "{5}\n",
            "-------\n",
            "{1, 2, 5}\n"
          ]
        }
      ],
      "source": [
        "# Bitwise OR to construct 'this' or 'that' queries.\n",
        "\n",
        "import numpy as np\n",
        "\n",
        "docs_array = np.array(docs, dtype='object')\n",
        "\n",
        "v1 = np.array(inverted_index[input()])    \n",
        "v2 = np.array(inverted_index[input()])\n",
        "\n",
        "print(v1)\n",
        "print(v2)\n",
        "print('-------')\n",
        "v3 = v1 | v2\n",
        "print(v3)"
      ]
    },
    {
      "cell_type": "code",
      "execution_count": 24,
      "metadata": {
        "colab": {
          "base_uri": "https://localhost:8080/",
          "height": 0
        },
        "id": "TcGmZFsyTUQz",
        "outputId": "eca38b48-f7f8-4a76-c1ba-6a3ed34423d3"
      },
      "outputs": [
        {
          "output_type": "stream",
          "name": "stdout",
          "text": [
            "play\n",
            "cricket\n",
            "{1, 2}\n",
            "{2, 3}\n",
            "-------\n",
            "{2}\n"
          ]
        }
      ],
      "source": [
        "# Bitwise AND to construct 'this' and 'that' queries.\n",
        "\n",
        "v1 = np.array(inverted_index[input()])    \n",
        "v2 = np.array(inverted_index[input()])\n",
        "\n",
        "print(v1)\n",
        "print(v2)\n",
        "print('-------')\n",
        "v3 = v1 & v2\n",
        "print(v3)"
      ]
    },
    {
      "cell_type": "code",
      "execution_count": 25,
      "metadata": {
        "colab": {
          "base_uri": "https://localhost:8080/",
          "height": 0
        },
        "id": "QI0KHxrRXADT",
        "outputId": "f8d65d5f-45df-41e0-cf1d-f647796890ff"
      },
      "outputs": [
        {
          "output_type": "stream",
          "name": "stdout",
          "text": [
            "play\n",
            "cricket\n",
            "{1, 2}\n",
            "{2, 3}\n",
            "-----------\n",
            "{1}\n"
          ]
        }
      ],
      "source": [
        "# But Not\n",
        "\n",
        "v1 = np.array(inverted_index[input()])    \n",
        "v2 = np.array(inverted_index[input()])\n",
        "\n",
        "print(v1)\n",
        "print(v2)\n",
        "print('-----------')\n",
        "\n",
        "v3 = v1 - v2\n",
        "\n",
        "print(v3)"
      ]
    }
  ],
  "metadata": {
    "colab": {
      "collapsed_sections": [],
      "name": "Inverted_Index_with Query.ipynb",
      "provenance": []
    },
    "kernelspec": {
      "display_name": "Python 3",
      "name": "python3"
    },
    "language_info": {
      "name": "python"
    }
  },
  "nbformat": 4,
  "nbformat_minor": 0
}
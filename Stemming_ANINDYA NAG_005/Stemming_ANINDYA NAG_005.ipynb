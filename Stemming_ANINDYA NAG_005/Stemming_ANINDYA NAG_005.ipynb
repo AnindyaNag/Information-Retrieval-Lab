{
  "nbformat": 4,
  "nbformat_minor": 0,
  "metadata": {
    "colab": {
      "name": "Stemming.ipynb",
      "provenance": [],
      "collapsed_sections": []
    },
    "kernelspec": {
      "name": "python3",
      "display_name": "Python 3"
    },
    "language_info": {
      "name": "python"
    }
  },
  "cells": [
    {
      "cell_type": "code",
      "source": [
        "###Lab: 06                                      Date: 01.04.222\n",
        "###Program No.:06\n",
        "\n",
        "###Program Name: Write a Python Program to perform Stemming.\n",
        "\n",
        "#ANINDYA Nag\n",
        "#ROLL : UG/02/BTCSE/2018/005\n",
        "\n",
        "#CODE:1"
      ],
      "metadata": {
        "id": "wkQdCnt05Zxu"
      },
      "execution_count": 46,
      "outputs": []
    },
    {
      "cell_type": "code",
      "source": [
        "#Stemming\n",
        "import nltk\n",
        "nltk.download('punkt')"
      ],
      "metadata": {
        "colab": {
          "base_uri": "https://localhost:8080/",
          "height": 0
        },
        "id": "gZnzwsySkosM",
        "outputId": "a5dd8782-1e10-4443-9346-4b91ffad9c9e"
      },
      "execution_count": 47,
      "outputs": [
        {
          "output_type": "stream",
          "name": "stdout",
          "text": [
            "[nltk_data] Downloading package punkt to /root/nltk_data...\n",
            "[nltk_data]   Package punkt is already up-to-date!\n"
          ]
        },
        {
          "output_type": "execute_result",
          "data": {
            "text/plain": [
              "True"
            ]
          },
          "metadata": {},
          "execution_count": 47
        }
      ]
    },
    {
      "cell_type": "code",
      "execution_count": 48,
      "metadata": {
        "id": "BvAy15zMQfls"
      },
      "outputs": [],
      "source": [
        "#Porter Stemmer\n",
        "from nltk.stem import PorterStemmer"
      ]
    },
    {
      "cell_type": "code",
      "source": [
        "#Snow Stemmer\n",
        "from nltk.stem.snowball import SnowballStemmer"
      ],
      "metadata": {
        "id": "lWE2SCLV3p4A"
      },
      "execution_count": 49,
      "outputs": []
    },
    {
      "cell_type": "code",
      "source": [
        "#For Porter Stemmer word \n",
        "port = PorterStemmer()\n",
        "word = input('Enter a word to be stemmed: ')\n",
        "print(word, \" : \",port.stem(word))"
      ],
      "metadata": {
        "id": "Urfoskt-VHTH",
        "colab": {
          "base_uri": "https://localhost:8080/",
          "height": 0
        },
        "outputId": "be9cc383-3f67-4d66-83f1-56b7896c7d31"
      },
      "execution_count": 50,
      "outputs": [
        {
          "output_type": "stream",
          "name": "stdout",
          "text": [
            "Enter a word to be stemmed: swimming\n",
            "swimming  :  swim\n"
          ]
        }
      ]
    },
    {
      "cell_type": "code",
      "source": [
        "#For Snow Stemmer word \n",
        "snow_stemmer = SnowballStemmer(language = 'english')\n",
        "word = input('Enter a word to be stemmed: ')\n",
        "print(word, \" : \",snow_stemmer.stem(word))"
      ],
      "metadata": {
        "colab": {
          "base_uri": "https://localhost:8080/",
          "height": 0
        },
        "id": "S0kqv_d64DGR",
        "outputId": "ae073f35-1605-449e-e613-f1838a564112"
      },
      "execution_count": 53,
      "outputs": [
        {
          "output_type": "stream",
          "name": "stdout",
          "text": [
            "Enter a word to be stemmed: searched\n",
            "searched  :  search\n"
          ]
        }
      ]
    },
    {
      "cell_type": "code",
      "source": [
        "#For sentence\n",
        "#sample = \"Information Retrieval refers to the process and procedures of searching & locating and retrieving recorded data and information from a database\""
      ],
      "metadata": {
        "id": "seEauC3VR5a1"
      },
      "execution_count": 56,
      "outputs": []
    },
    {
      "cell_type": "code",
      "source": [
        "sample = input('Enter a sentence to be stemmed: ')"
      ],
      "metadata": {
        "colab": {
          "base_uri": "https://localhost:8080/",
          "height": 0
        },
        "id": "ZLg8JXuYbkMb",
        "outputId": "ff9dce96-2a60-4388-8f92-83765f755a0a"
      },
      "execution_count": 61,
      "outputs": [
        {
          "name": "stdout",
          "output_type": "stream",
          "text": [
            "Enter a sentence to be stemmed: Information Retrieval refers to the process and procedures of searching & locating and retrieving recorded data and information from a database\n"
          ]
        }
      ]
    },
    {
      "cell_type": "code",
      "source": [
        "#tokenization\n",
        "from nltk.tokenize import word_tokenize"
      ],
      "metadata": {
        "id": "gn9RaOIDV3jG"
      },
      "execution_count": 62,
      "outputs": []
    },
    {
      "cell_type": "code",
      "source": [
        "#For Porter Stemmer Sentence\n",
        "for word in word_tokenize(sample):\n",
        "  print(port.stem(word))"
      ],
      "metadata": {
        "colab": {
          "base_uri": "https://localhost:8080/",
          "height": 0
        },
        "id": "LmVg0PnBR8Je",
        "outputId": "aaab2ff3-6477-4fd3-97bb-737d31d63e62"
      },
      "execution_count": 63,
      "outputs": [
        {
          "output_type": "stream",
          "name": "stdout",
          "text": [
            "inform\n",
            "retriev\n",
            "refer\n",
            "to\n",
            "the\n",
            "process\n",
            "and\n",
            "procedur\n",
            "of\n",
            "search\n",
            "&\n",
            "locat\n",
            "and\n",
            "retriev\n",
            "record\n",
            "data\n",
            "and\n",
            "inform\n",
            "from\n",
            "a\n",
            "databas\n"
          ]
        }
      ]
    },
    {
      "cell_type": "code",
      "source": [
        "#For Snow Stemmer Sentence\n",
        "for word in word_tokenize(sample):\n",
        "  print(snow_stemmer.stem(word))"
      ],
      "metadata": {
        "colab": {
          "base_uri": "https://localhost:8080/",
          "height": 0
        },
        "id": "NAXL-bon5EyW",
        "outputId": "7534e089-ce8d-45f1-dc1b-a640cb45f210"
      },
      "execution_count": 64,
      "outputs": [
        {
          "output_type": "stream",
          "name": "stdout",
          "text": [
            "inform\n",
            "retriev\n",
            "refer\n",
            "to\n",
            "the\n",
            "process\n",
            "and\n",
            "procedur\n",
            "of\n",
            "search\n",
            "&\n",
            "locat\n",
            "and\n",
            "retriev\n",
            "record\n",
            "data\n",
            "and\n",
            "inform\n",
            "from\n",
            "a\n",
            "databas\n"
          ]
        }
      ]
    }
  ]
}
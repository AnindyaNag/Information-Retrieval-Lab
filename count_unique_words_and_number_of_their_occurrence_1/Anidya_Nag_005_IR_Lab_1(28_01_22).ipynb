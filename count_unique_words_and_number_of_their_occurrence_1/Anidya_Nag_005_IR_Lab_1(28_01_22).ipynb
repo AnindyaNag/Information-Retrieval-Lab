{
  "nbformat": 4,
  "nbformat_minor": 0,
  "metadata": {
    "colab": {
      "name": "Anidya_Nag_005_IR_Lab_1(28_01_22).ipynb",
      "provenance": [],
      "collapsed_sections": []
    },
    "kernelspec": {
      "name": "python3",
      "display_name": "Python 3"
    },
    "language_info": {
      "name": "python"
    }
  },
  "cells": [
    {
      "cell_type": "code",
      "execution_count": 10,
      "metadata": {
        "id": "viAiT847ODPJ"
      },
      "outputs": [],
      "source": [
        "#ANINDYA NAG\n",
        "#Roll:005"
      ]
    },
    {
      "cell_type": "code",
      "source": [
        "import re\n",
        "from collections import Counter"
      ],
      "metadata": {
        "id": "chzfbRUnwd5O"
      },
      "execution_count": 11,
      "outputs": []
    },
    {
      "cell_type": "code",
      "source": [
        "def count_words(path):\n",
        "  with open(path, encoding='utf-8') as file:\n",
        "    total_words = re.findall(r\"[0-9a-zA-z-']+\", file.read())\n",
        "    total_words = [word.upper() for word in total_words]\n",
        "    print('\\nTotal Words:', len(total_words))\n",
        "\n",
        "    word_counts = Counter()\n",
        "    for word in total_words:\n",
        "      word_counts[word] +=1\n",
        "    \n",
        "    print('\\nTop 10 Words:')\n",
        "    for word in word_counts.most_common(10):\n",
        "      print(word[0], '\\t', word[1])"
      ],
      "metadata": {
        "id": "Vo2Nu-srPRym"
      },
      "execution_count": 12,
      "outputs": []
    },
    {
      "cell_type": "code",
      "source": [
        "count_words('Anindya_lab1.txt')"
      ],
      "metadata": {
        "colab": {
          "base_uri": "https://localhost:8080/"
        },
        "id": "DzivMykXPVGk",
        "outputId": "d9c1d785-c044-46ec-a001-a624b3bc0773"
      },
      "execution_count": 13,
      "outputs": [
        {
          "output_type": "stream",
          "name": "stdout",
          "text": [
            "\n",
            "Total Words: 590\n",
            "\n",
            "Top 10 Words:\n",
            "THE \t 45\n",
            "INFORMATION \t 20\n",
            "IN \t 19\n",
            "OF \t 19\n",
            "RETRIEVAL \t 15\n",
            "A \t 14\n",
            "TO \t 12\n",
            "FOR \t 12\n",
            "ARE \t 9\n",
            "BY \t 9\n"
          ]
        }
      ]
    }
  ]
}
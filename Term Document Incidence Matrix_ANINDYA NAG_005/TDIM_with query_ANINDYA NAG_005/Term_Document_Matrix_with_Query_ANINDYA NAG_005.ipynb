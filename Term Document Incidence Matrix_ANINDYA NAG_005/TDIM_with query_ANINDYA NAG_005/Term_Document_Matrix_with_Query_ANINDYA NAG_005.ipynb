{
  "nbformat": 4,
  "nbformat_minor": 0,
  "metadata": {
    "colab": {
      "name": "Term_Document_Matrix_with Query.ipynb",
      "provenance": [],
      "collapsed_sections": []
    },
    "kernelspec": {
      "name": "python3",
      "display_name": "Python 3"
    },
    "language_info": {
      "name": "python"
    }
  },
  "cells": [
    {
      "cell_type": "code",
      "source": [
        "###Lab: 03                                                    Date: 18.02.222\n",
        "###Program No.:03\n",
        "\n",
        "###Program Name: Write a Python Program to find Term Document Incidence Matrix \n",
        "#                and Process Boolean Query.\n",
        "\n",
        "#ANINDYA NAG\n",
        "# ROLL : UG/02/BTCSE/2018/005\n",
        "\n",
        "#CODE:1"
      ],
      "metadata": {
        "id": "5JRIznaaK4Xf"
      },
      "execution_count": 1,
      "outputs": []
    },
    {
      "cell_type": "code",
      "execution_count": 2,
      "metadata": {
        "id": "Owz8egG-uDV1"
      },
      "outputs": [],
      "source": [
        "# Collection of documents(corpus)\n",
        "\n",
        "D1=\"I play tennis everyday\"\n",
        "D2=\"Everyday I go to play cricket\"\n",
        "D3=\"I like cricket and tennis\"\n",
        "D4=\"Dhoni won the world cup\"\n",
        "D5=\"I love a cup of tea everyday\""
      ]
    },
    {
      "cell_type": "code",
      "source": [
        "#python list\n",
        "\n",
        "docs = [D1,D2,D3,D4,D5]\n",
        "docs"
      ],
      "metadata": {
        "colab": {
          "base_uri": "https://localhost:8080/",
          "height": 0
        },
        "id": "6ul-4JYKvarr",
        "outputId": "5f51a4d7-be31-4b12-dc1d-ac771341594e"
      },
      "execution_count": 3,
      "outputs": [
        {
          "output_type": "execute_result",
          "data": {
            "text/plain": [
              "['I play tennis everyday',\n",
              " 'Everyday I go to play cricket',\n",
              " 'I like cricket and tennis',\n",
              " 'Dhoni won the world cup',\n",
              " 'I love a cup of tea everyday']"
            ]
          },
          "metadata": {},
          "execution_count": 3
        }
      ]
    },
    {
      "cell_type": "code",
      "source": [
        "# Gather the set of all unique terms\n",
        "\n",
        "unique_terms = {term for doc in docs for term in doc.split()}\n",
        "unique_terms"
      ],
      "metadata": {
        "colab": {
          "base_uri": "https://localhost:8080/",
          "height": 0
        },
        "id": "RaDpeYV9voHl",
        "outputId": "07b58e6e-2362-4826-ebe3-0c045d8100bf"
      },
      "execution_count": 4,
      "outputs": [
        {
          "output_type": "execute_result",
          "data": {
            "text/plain": [
              "{'Dhoni',\n",
              " 'Everyday',\n",
              " 'I',\n",
              " 'a',\n",
              " 'and',\n",
              " 'cricket',\n",
              " 'cup',\n",
              " 'everyday',\n",
              " 'go',\n",
              " 'like',\n",
              " 'love',\n",
              " 'of',\n",
              " 'play',\n",
              " 'tea',\n",
              " 'tennis',\n",
              " 'the',\n",
              " 'to',\n",
              " 'won',\n",
              " 'world'}"
            ]
          },
          "metadata": {},
          "execution_count": 4
        }
      ]
    },
    {
      "cell_type": "code",
      "source": [
        "# Construct a term-document matrix\n",
        "# here as a Python dictionary for ease of interpretability\n",
        "\n",
        "doc_term_matrix = {}\n",
        "\n",
        "for term in unique_terms:\n",
        "    doc_term_matrix[term] = []\n",
        "    \n",
        "    for doc in docs:\n",
        "        if term in doc:\n",
        "            doc_term_matrix[term].append(1)\n",
        "        else: doc_term_matrix[term].append(0)\n",
        "\n",
        "doc_term_matrix"
      ],
      "metadata": {
        "colab": {
          "base_uri": "https://localhost:8080/",
          "height": 0
        },
        "id": "hrrvPxxXvtGP",
        "outputId": "b379dd82-9e98-41c8-f6a6-dab48707b69d"
      },
      "execution_count": 5,
      "outputs": [
        {
          "output_type": "execute_result",
          "data": {
            "text/plain": [
              "{'Dhoni': [0, 0, 0, 1, 0],\n",
              " 'Everyday': [0, 1, 0, 0, 0],\n",
              " 'I': [1, 1, 1, 0, 1],\n",
              " 'a': [1, 1, 1, 0, 1],\n",
              " 'and': [0, 0, 1, 0, 0],\n",
              " 'cricket': [0, 1, 1, 0, 0],\n",
              " 'cup': [0, 0, 0, 1, 1],\n",
              " 'everyday': [1, 0, 0, 0, 1],\n",
              " 'go': [0, 1, 0, 0, 0],\n",
              " 'like': [0, 0, 1, 0, 0],\n",
              " 'love': [0, 0, 0, 0, 1],\n",
              " 'of': [0, 0, 0, 0, 1],\n",
              " 'play': [1, 1, 0, 0, 0],\n",
              " 'tea': [0, 0, 0, 0, 1],\n",
              " 'tennis': [1, 0, 1, 0, 0],\n",
              " 'the': [0, 0, 0, 1, 0],\n",
              " 'to': [0, 1, 0, 0, 0],\n",
              " 'won': [0, 0, 0, 1, 0],\n",
              " 'world': [0, 0, 0, 1, 0]}"
            ]
          },
          "metadata": {},
          "execution_count": 5
        }
      ]
    },
    {
      "cell_type": "code",
      "source": [
        "# The query to find all documents containing \" \" AND \" \"\n",
        "# Is just a bitwise AND:\n",
        "\n",
        "import numpy as np\n",
        "\n",
        "docs_array = np.array(docs, dtype='object')\n",
        "\n",
        "v1 = np.array(doc_term_matrix[input()])    \n",
        "v2 = np.array(doc_term_matrix[input()])\n",
        "\n",
        "print(v1)\n",
        "print(v2)\n",
        "print('-----------')\n",
        "v3 = v1 & v2\n",
        "print(v3)"
      ],
      "metadata": {
        "id": "Qq90PfeFvyH6",
        "colab": {
          "base_uri": "https://localhost:8080/",
          "height": 0
        },
        "outputId": "942e3ce2-3d53-475b-e7b3-a22bb3670d59"
      },
      "execution_count": 7,
      "outputs": [
        {
          "output_type": "stream",
          "name": "stdout",
          "text": [
            "tennis\n",
            "like\n",
            "[1 0 1 0 0]\n",
            "[0 0 1 0 0]\n",
            "-----------\n",
            "[0 0 1 0 0]\n"
          ]
        }
      ]
    },
    {
      "cell_type": "code",
      "source": [
        "# We can now get the matching documents from our corpus with the result\n",
        "[doc for doc in v3 * docs_array if doc]"
      ],
      "metadata": {
        "colab": {
          "base_uri": "https://localhost:8080/",
          "height": 0
        },
        "id": "uw3sJivVX_vD",
        "outputId": "f208d01d-3246-4754-82cd-d1af4a6120aa"
      },
      "execution_count": 8,
      "outputs": [
        {
          "output_type": "execute_result",
          "data": {
            "text/plain": [
              "['I like cricket and tennis']"
            ]
          },
          "metadata": {},
          "execution_count": 8
        }
      ]
    },
    {
      "cell_type": "code",
      "source": [
        "# Bitwise OR to construct 'this' or 'that' queries.\n",
        "\n",
        "v1 = np.array(doc_term_matrix[input()])    \n",
        "v2 = np.array(doc_term_matrix[input()])\n",
        "\n",
        "print(v1)\n",
        "print(v2)\n",
        "print('-----------')\n",
        "v3 = v1 | v2\n",
        "print(v3)"
      ],
      "metadata": {
        "id": "fJ3n_ko2PLfS",
        "colab": {
          "base_uri": "https://localhost:8080/",
          "height": 0
        },
        "outputId": "9a71a230-10cb-4de1-9dda-ebe7bf4653d0"
      },
      "execution_count": 9,
      "outputs": [
        {
          "output_type": "stream",
          "name": "stdout",
          "text": [
            "cricket\n",
            "play\n",
            "[0 1 1 0 0]\n",
            "[1 1 0 0 0]\n",
            "-----------\n",
            "[1 1 1 0 0]\n"
          ]
        }
      ]
    },
    {
      "cell_type": "code",
      "source": [
        "# We can now get the matching documents from our corpus with the result\n",
        "[doc for doc in v3 * docs_array if doc]"
      ],
      "metadata": {
        "id": "HK1iCeCkYByg",
        "colab": {
          "base_uri": "https://localhost:8080/",
          "height": 0
        },
        "outputId": "2afb89b9-ef31-4fef-dc4d-981674055886"
      },
      "execution_count": 10,
      "outputs": [
        {
          "output_type": "execute_result",
          "data": {
            "text/plain": [
              "['I play tennis everyday',\n",
              " 'Everyday I go to play cricket',\n",
              " 'I like cricket and tennis']"
            ]
          },
          "metadata": {},
          "execution_count": 10
        }
      ]
    },
    {
      "cell_type": "code",
      "source": [
        "# But Not\n",
        "\n",
        "v1 = np.array(doc_term_matrix[input()])    \n",
        "v2 = np.array(doc_term_matrix[input()])\n",
        "\n",
        "print(v1)\n",
        "print(v2)\n",
        "print('-----------')\n",
        "\n",
        "v3 = ~ v2\n",
        "\n",
        "v4 = v1 & v3\n",
        "print(v4)"
      ],
      "metadata": {
        "colab": {
          "base_uri": "https://localhost:8080/",
          "height": 0
        },
        "id": "zkae_XX2H51r",
        "outputId": "d509e16d-793e-4882-d902-0de04f9b3206"
      },
      "execution_count": 13,
      "outputs": [
        {
          "output_type": "stream",
          "name": "stdout",
          "text": [
            "cricket\n",
            "like\n",
            "[0 1 1 0 0]\n",
            "[0 0 1 0 0]\n",
            "-----------\n",
            "[0 1 0 0 0]\n"
          ]
        }
      ]
    },
    {
      "cell_type": "code",
      "source": [
        "# We can now get the matching documents from our corpus with the result\n",
        "[doc for doc in v4 * docs_array if doc]"
      ],
      "metadata": {
        "colab": {
          "base_uri": "https://localhost:8080/",
          "height": 0
        },
        "id": "t45dnRUsN7vW",
        "outputId": "9dca15a3-e827-4d38-bf4f-aa6f8c7353ed"
      },
      "execution_count": 14,
      "outputs": [
        {
          "output_type": "execute_result",
          "data": {
            "text/plain": [
              "['Everyday I go to play cricket']"
            ]
          },
          "metadata": {},
          "execution_count": 14
        }
      ]
    }
  ]
}
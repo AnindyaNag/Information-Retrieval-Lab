{
  "cells": [
    {
      "cell_type": "code",
      "execution_count": 1,
      "metadata": {
        "id": "5JRIznaaK4Xf"
      },
      "outputs": [],
      "source": [
        "###Lab: 02                                                     Date:11.02.2022 \n",
        "###Program No.:02\n",
        "\n",
        "###Program Name: Write a Python Program to find Term Document Incidence Matrix.\n",
        "\n",
        "#ANINDYA NAG\n",
        "# ROLL : UG/02/BTCSE/2018/005\n",
        "\n",
        "#CODE:1"
      ]
    },
    {
      "cell_type": "code",
      "execution_count": 2,
      "metadata": {
        "id": "Owz8egG-uDV1"
      },
      "outputs": [],
      "source": [
        "# Collection of documents(corpus)\n",
        "\n",
        "D1=\"I play tennis everyday\"\n",
        "D2=\"Everyday I go to play cricket\"\n",
        "D3=\"I like cricket and tennis\"\n",
        "D4=\"Dhoni won the world cup\"\n",
        "D5=\"I love a cup of tea everyday\""
      ]
    },
    {
      "cell_type": "code",
      "execution_count": 3,
      "metadata": {
        "colab": {
          "base_uri": "https://localhost:8080/",
          "height": 0
        },
        "id": "6ul-4JYKvarr",
        "outputId": "7a7c92e3-3684-4a5e-f919-29ae01b2ab83"
      },
      "outputs": [
        {
          "output_type": "execute_result",
          "data": {
            "text/plain": [
              "['I play tennis everyday',\n",
              " 'Everyday I go to play cricket',\n",
              " 'I like cricket and tennis',\n",
              " 'Dhoni won the world cup',\n",
              " 'I love a cup of tea everyday']"
            ]
          },
          "metadata": {},
          "execution_count": 3
        }
      ],
      "source": [
        "#python list\n",
        "\n",
        "docs = [D1,D2,D3,D4,D5]\n",
        "docs"
      ]
    },
    {
      "cell_type": "code",
      "execution_count": 4,
      "metadata": {
        "colab": {
          "base_uri": "https://localhost:8080/",
          "height": 0
        },
        "id": "RaDpeYV9voHl",
        "outputId": "c1fcfa30-5cfc-4ed4-a7d4-623241339c58"
      },
      "outputs": [
        {
          "output_type": "execute_result",
          "data": {
            "text/plain": [
              "{'Dhoni',\n",
              " 'Everyday',\n",
              " 'I',\n",
              " 'a',\n",
              " 'and',\n",
              " 'cricket',\n",
              " 'cup',\n",
              " 'everyday',\n",
              " 'go',\n",
              " 'like',\n",
              " 'love',\n",
              " 'of',\n",
              " 'play',\n",
              " 'tea',\n",
              " 'tennis',\n",
              " 'the',\n",
              " 'to',\n",
              " 'won',\n",
              " 'world'}"
            ]
          },
          "metadata": {},
          "execution_count": 4
        }
      ],
      "source": [
        "# Gather the set of all unique terms\n",
        "\n",
        "unique_terms = {term for doc in docs for term in doc.split()}\n",
        "unique_terms"
      ]
    },
    {
      "cell_type": "code",
      "execution_count": 5,
      "metadata": {
        "colab": {
          "base_uri": "https://localhost:8080/",
          "height": 0
        },
        "id": "hrrvPxxXvtGP",
        "outputId": "d657e4a8-ed74-4a96-ef36-6141cc29cdfc"
      },
      "outputs": [
        {
          "output_type": "execute_result",
          "data": {
            "text/plain": [
              "{'Dhoni': [0, 0, 0, 1, 0],\n",
              " 'Everyday': [0, 1, 0, 0, 0],\n",
              " 'I': [1, 1, 1, 0, 1],\n",
              " 'a': [1, 1, 1, 0, 1],\n",
              " 'and': [0, 0, 1, 0, 0],\n",
              " 'cricket': [0, 1, 1, 0, 0],\n",
              " 'cup': [0, 0, 0, 1, 1],\n",
              " 'everyday': [1, 0, 0, 0, 1],\n",
              " 'go': [0, 1, 0, 0, 0],\n",
              " 'like': [0, 0, 1, 0, 0],\n",
              " 'love': [0, 0, 0, 0, 1],\n",
              " 'of': [0, 0, 0, 0, 1],\n",
              " 'play': [1, 1, 0, 0, 0],\n",
              " 'tea': [0, 0, 0, 0, 1],\n",
              " 'tennis': [1, 0, 1, 0, 0],\n",
              " 'the': [0, 0, 0, 1, 0],\n",
              " 'to': [0, 1, 0, 0, 0],\n",
              " 'won': [0, 0, 0, 1, 0],\n",
              " 'world': [0, 0, 0, 1, 0]}"
            ]
          },
          "metadata": {},
          "execution_count": 5
        }
      ],
      "source": [
        "# Construct a term-document matrix\n",
        "# here as a Python dictionary for ease of interpretability\n",
        "\n",
        "doc_term_matrix = {}\n",
        "\n",
        "for term in unique_terms:\n",
        "    doc_term_matrix[term] = []\n",
        "    \n",
        "    for doc in docs:\n",
        "        if term in doc:\n",
        "            doc_term_matrix[term].append(1)\n",
        "        else: doc_term_matrix[term].append(0)\n",
        "\n",
        "doc_term_matrix"
      ]
    }
  ],
  "metadata": {
    "colab": {
      "collapsed_sections": [],
      "name": "Term_Document_Matrix_.ipynb",
      "provenance": []
    },
    "kernelspec": {
      "display_name": "Python 3",
      "name": "python3"
    },
    "language_info": {
      "name": "python"
    }
  },
  "nbformat": 4,
  "nbformat_minor": 0
}